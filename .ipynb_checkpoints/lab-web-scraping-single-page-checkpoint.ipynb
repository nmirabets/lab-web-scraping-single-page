{
 "cells": [
  {
   "cell_type": "markdown",
   "id": "4d062120-b0c8-4134-888d-a89edd1fb578",
   "metadata": {},
   "source": [
    "![logo_ironhack_blue 7](https://user-images.githubusercontent.com/23629340/40541063-a07a0a8a-601a-11e8-91b5-2f13e4e6b441.png)\n",
    "\n",
    "# Lab | Web Scraping Single Page\n",
    "\n",
    "#### Business goal:\n",
    "\n",
    "- Check the `case_study_gnod.md` file.\n",
    "- Make sure you've understood the big picture of your project:\n",
    "\n",
    "  - the goal of the company (`Gnod`),\n",
    "  - their current product (`Gnoosic`),\n",
    "  - their strategy, and\n",
    "  - how your project fits into this context.\n",
    "\n",
    "  Re-read the business case and the e-mail from the CTO, take a look at the flowchart and create an initial Trello board with the tasks you think you'll have to accomplish.\n",
    "\n",
    "#### Instructions - Scraping popular songs\n",
    "\n",
    "Your product will take a song as an input from the user and will output another song (the recommendation). In most cases, the recommended song will have to be similar to the inputted song, but the CTO thinks that if the song is on the top charts at the moment, the user will enjoy more a recommendation of a song that's also popular at the moment.\n",
    "\n",
    "You have find data on the internet about currently popular songs. Billboard maintains a weekly Top 100 of \"hot\" songs here: [https://www.billboard.com/charts/hot-100](https://www.billboard.com/charts/hot-100).\n",
    "\n",
    "It's a good place to start! \n",
    "\n",
    "**The goal of this lab is to create a function: scrape_hot100()** to scrape the current top 100 songs present at [https://www.billboard.com/charts/hot-100](https://www.billboard.com/charts/hot-100) and their respective artists, put the information into a pandas dataframe, and save the dataframe in a csv file in the current folder. "
   ]
  },
  {
   "cell_type": "markdown",
   "id": "426722b9-c2ad-45cb-afa7-33ad15122173",
   "metadata": {},
   "source": [
    "## Import libraries"
   ]
  },
  {
   "cell_type": "code",
   "execution_count": 1,
   "id": "fd186ed7-41fd-4510-9e10-3b5bcbe115be",
   "metadata": {},
   "outputs": [],
   "source": [
    "from bs4 import BeautifulSoup\n",
    "import requests\n",
    "import pandas as pd"
   ]
  },
  {
   "cell_type": "code",
   "execution_count": 2,
   "id": "d93f365a-2a70-4a08-9d2b-dbe2ecfc58fd",
   "metadata": {},
   "outputs": [
    {
     "data": {
      "text/plain": [
       "200"
      ]
     },
     "execution_count": 2,
     "metadata": {},
     "output_type": "execute_result"
    }
   ],
   "source": [
    "url = \"https://www.billboard.com/charts/hot-100\"\n",
    "response = requests.get(url)\n",
    "response.status_code # 200 status code means OK!\n"
   ]
  },
  {
   "cell_type": "code",
   "execution_count": 5,
   "id": "60196eb8-b198-492c-9c97-e300e4d1a15a",
   "metadata": {},
   "outputs": [],
   "source": [
    "def scrape_hot100() -> pd.DataFrame:\n",
    "    '''\n",
    "    This function scrapes the top 100 songs from billboard.com and return a \n",
    "    DataFrame including the song title and artist\n",
    "\n",
    "    Output:\n",
    "    Pandas DataFrame\n",
    "    '''\n",
    "\n",
    "    # Define the base url\n",
    "    url = \"https://www.billboard.com/charts/hot-100\"\n",
    "\n",
    "    # Create soup\n",
    "    soup = BeautifulSoup(response.text, \"html.parser\")\n",
    "    \n",
    "    # Define select string\n",
    "    title_select = 'div.chart-results-list .c-title.a-truncate-ellipsis'\n",
    "    \n",
    "    # Parse song titles\n",
    "    titles = [li.get_text().strip() for li in soup.select(title_select)]\n",
    "    \n",
    "    # Define artist select\n",
    "    artist_select = 'div.chart-results-list .c-label.a-no-trucate'\n",
    "    \n",
    "    # Parse song arists\n",
    "    artists = [li.get_text().strip() for li in soup.select(artist_select)]\n",
    "\n",
    "    songs = pd.DataFrame({\"title\": titles, \"artist\": artists})\n",
    "\n",
    "    return songs"
   ]
  },
  {
   "cell_type": "code",
   "execution_count": 6,
   "id": "2847f20a-129d-4a92-bfe7-49ed7945227b",
   "metadata": {},
   "outputs": [
    {
     "data": {
      "text/html": [
       "<div>\n",
       "<style scoped>\n",
       "    .dataframe tbody tr th:only-of-type {\n",
       "        vertical-align: middle;\n",
       "    }\n",
       "\n",
       "    .dataframe tbody tr th {\n",
       "        vertical-align: top;\n",
       "    }\n",
       "\n",
       "    .dataframe thead th {\n",
       "        text-align: right;\n",
       "    }\n",
       "</style>\n",
       "<table border=\"1\" class=\"dataframe\">\n",
       "  <thead>\n",
       "    <tr style=\"text-align: right;\">\n",
       "      <th></th>\n",
       "      <th>title</th>\n",
       "      <th>artist</th>\n",
       "    </tr>\n",
       "  </thead>\n",
       "  <tbody>\n",
       "    <tr>\n",
       "      <th>0</th>\n",
       "      <td>Vampire</td>\n",
       "      <td>Olivia Rodrigo</td>\n",
       "    </tr>\n",
       "    <tr>\n",
       "      <th>1</th>\n",
       "      <td>Last Night</td>\n",
       "      <td>Morgan Wallen</td>\n",
       "    </tr>\n",
       "    <tr>\n",
       "      <th>2</th>\n",
       "      <td>Fast Car</td>\n",
       "      <td>Luke Combs</td>\n",
       "    </tr>\n",
       "    <tr>\n",
       "      <th>3</th>\n",
       "      <td>Calm Down</td>\n",
       "      <td>Rema &amp; Selena Gomez</td>\n",
       "    </tr>\n",
       "    <tr>\n",
       "      <th>4</th>\n",
       "      <td>Flowers</td>\n",
       "      <td>Miley Cyrus</td>\n",
       "    </tr>\n",
       "    <tr>\n",
       "      <th>...</th>\n",
       "      <td>...</td>\n",
       "      <td>...</td>\n",
       "    </tr>\n",
       "    <tr>\n",
       "      <th>95</th>\n",
       "      <td>Ain't That Some</td>\n",
       "      <td>Morgan Wallen</td>\n",
       "    </tr>\n",
       "    <tr>\n",
       "      <th>96</th>\n",
       "      <td>Lagunas</td>\n",
       "      <td>Peso Pluma &amp; Jasiel Nunez</td>\n",
       "    </tr>\n",
       "    <tr>\n",
       "      <th>97</th>\n",
       "      <td>Dial Drunk</td>\n",
       "      <td>Noah Kahan</td>\n",
       "    </tr>\n",
       "    <tr>\n",
       "      <th>98</th>\n",
       "      <td>Save Me</td>\n",
       "      <td>Jelly Roll With Lainey Wilson</td>\n",
       "    </tr>\n",
       "    <tr>\n",
       "      <th>99</th>\n",
       "      <td>Jaded</td>\n",
       "      <td>Miley Cyrus</td>\n",
       "    </tr>\n",
       "  </tbody>\n",
       "</table>\n",
       "<p>100 rows × 2 columns</p>\n",
       "</div>"
      ],
      "text/plain": [
       "              title                         artist\n",
       "0           Vampire                 Olivia Rodrigo\n",
       "1        Last Night                  Morgan Wallen\n",
       "2          Fast Car                     Luke Combs\n",
       "3         Calm Down            Rema & Selena Gomez\n",
       "4           Flowers                    Miley Cyrus\n",
       "..              ...                            ...\n",
       "95  Ain't That Some                  Morgan Wallen\n",
       "96          Lagunas      Peso Pluma & Jasiel Nunez\n",
       "97       Dial Drunk                     Noah Kahan\n",
       "98          Save Me  Jelly Roll With Lainey Wilson\n",
       "99            Jaded                    Miley Cyrus\n",
       "\n",
       "[100 rows x 2 columns]"
      ]
     },
     "execution_count": 6,
     "metadata": {},
     "output_type": "execute_result"
    }
   ],
   "source": [
    "# Use the function\n",
    "df = scrape_hot100()\n",
    "df"
   ]
  },
  {
   "cell_type": "code",
   "execution_count": null,
   "id": "b88014db-157a-4eea-a4bd-f4a9a82c30d6",
   "metadata": {},
   "outputs": [],
   "source": []
  }
 ],
 "metadata": {
  "kernelspec": {
   "display_name": "Python 3 (ipykernel)",
   "language": "python",
   "name": "python3"
  },
  "language_info": {
   "codemirror_mode": {
    "name": "ipython",
    "version": 3
   },
   "file_extension": ".py",
   "mimetype": "text/x-python",
   "name": "python",
   "nbconvert_exporter": "python",
   "pygments_lexer": "ipython3",
   "version": "3.10.12"
  }
 },
 "nbformat": 4,
 "nbformat_minor": 5
}
